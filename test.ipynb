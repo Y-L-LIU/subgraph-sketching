{
 "cells": [
  {
   "cell_type": "code",
   "execution_count": 1,
   "metadata": {},
   "outputs": [],
   "source": [
    "%load_ext autoreload\n",
    "%autoreload 2"
   ]
  },
  {
   "cell_type": "code",
   "execution_count": 8,
   "metadata": {},
   "outputs": [],
   "source": [
    "class args:\n",
    "    dataset_name='Cora' \n",
    "    val_pct=0.1\n",
    "    test_pct=0.2\n",
    "    num_negs = 1\n",
    "a = args()"
   ]
  },
  {
   "cell_type": "code",
   "execution_count": 9,
   "metadata": {},
   "outputs": [
    {
     "name": "stdout",
     "output_type": "stream",
     "text": [
      "reading data from: /data_sda/dataset/Cora\n"
     ]
    },
    {
     "name": "stderr",
     "output_type": "stream",
     "text": [
      "/home/lyl/miniconda3/envs/gnn/lib/python3.10/site-packages/torch_geometric/data/in_memory_dataset.py:300: UserWarning: It is not recommended to directly access the internal storage format `data` of an 'InMemoryDataset'. If you are absolutely certain what you are doing, access the internal storage via `InMemoryDataset._data` instead to suppress this warning. Alternatively, you can access stacked individual attributes of every graph via `dataset.{attr_name}`.\n",
      "  warnings.warn(msg)\n"
     ]
    }
   ],
   "source": [
    "from src.data import get_data\n",
    "data = get_data(a)"
   ]
  },
  {
   "cell_type": "code",
   "execution_count": null,
   "metadata": {},
   "outputs": [],
   "source": []
  },
  {
   "cell_type": "code",
   "execution_count": 10,
   "metadata": {},
   "outputs": [
    {
     "data": {
      "text/plain": [
       "Data(x=[2485, 1433], edge_index=[2, 7100], y=[2485], train_mask=[2485], test_mask=[2485], val_mask=[2485], edge_label=[7100], edge_label_index=[2, 7100])"
      ]
     },
     "execution_count": 10,
     "metadata": {},
     "output_type": "execute_result"
    }
   ],
   "source": [
    "data[1]['train']"
   ]
  },
  {
   "cell_type": "code",
   "execution_count": 11,
   "metadata": {},
   "outputs": [
    {
     "data": {
      "text/plain": [
       "tensor([[ 515, 1245,  666,  ...,  204, 2242,  880],\n",
       "        [1390, 1601, 2145,  ...,  110,   37,  729]])"
      ]
     },
     "execution_count": 11,
     "metadata": {},
     "output_type": "execute_result"
    }
   ],
   "source": [
    "data[1]['train'].edge_index"
   ]
  },
  {
   "cell_type": "code",
   "execution_count": null,
   "metadata": {},
   "outputs": [],
   "source": [
    "import torch\n",
    "from torch_geometric.data import Data\n",
    "from torch_scatter import scatter\n",
    "\n",
    "def wl_node_coloring_with_degree(data, max_iters=10):\n",
    "    # Calculate node degrees\n",
    "    edge_index = data.edge_label_index\n",
    "    num_nodes = data.num_nodes\n",
    "    node_degrees = scatter(torch.ones_like(edge_index[0]), edge_index[1], dim=0, dim_size=num_nodes, reduce='sum')\n",
    "    \n",
    "    # Initialize colors with node degrees\n",
    "    node_colors = node_degrees.clone()\n",
    "\n",
    "    for _ in range(max_iters):\n",
    "        # Aggregate colors of neighbors\n",
    "        aggregated_colors = scatter(node_colors[edge_index[0]], edge_index[1], dim_size=num_nodes, reduce='mean')\n",
    "        \n",
    "        # Concatenate current colors with aggregated neighbor colors\n",
    "        new_colors = torch.stack([node_colors, aggregated_colors], dim=-1)\n",
    "        \n",
    "        # Apply a simple hash function: generate unique integers from concatenated values\n",
    "        new_colors = torch.sum(new_colors * torch.tensor([1000, 1], device=data.x.device), dim=-1)\n",
    "        \n",
    "        # Check for convergence\n",
    "        if torch.equal(node_colors, new_colors):\n",
    "            break\n",
    "        node_colors = new_colors\n",
    "\n",
    "    data.node_colors = node_colors\n",
    "    return data\n",
    "\n",
    "def edge_marking(data):\n",
    "    # Get final node colors\n",
    "    node_colors = data.node_colors\n",
    "    \n",
    "    # For each edge, compare the colors of the connected nodes\n",
    "    edge_u = data.edge_label_index[0]\n",
    "    edge_v = data.edge_label_index[1]\n",
    "    edge_marks = (node_colors[edge_u] == node_colors[edge_v]).long()  # 1 if same, 0 otherwise\n",
    "    \n",
    "    data.edge_marks = edge_marks\n",
    "    return data\n",
    "\n",
    "def compute(data):\n",
    "    colors = wl_node_coloring_with_degree(data[1]['train'])\n",
    "    data = edge_marking(colors)\n",
    "    return None\n",
    "compute(data)\n",
    "\n",
    "# Now `data.edge_marks` contains the edge marks (1 for same color, 0 for different).\n"
   ]
  },
  {
   "cell_type": "code",
   "execution_count": 18,
   "metadata": {},
   "outputs": [
    {
     "data": {
      "text/plain": [
       "(Cora(),\n",
       " {'train': Data(x=[2485, 1433], edge_index=[2, 7100], y=[2485], train_mask=[2485], test_mask=[2485], val_mask=[2485], edge_label=[7100], edge_label_index=[2, 7100], node_colors=[2485], edge_marks=[7100]),\n",
       "  'valid': Data(x=[2485, 1433], edge_index=[2, 7100], y=[2485], train_mask=[2485], test_mask=[2485], val_mask=[2485], edge_label=[1012], edge_label_index=[2, 1012]),\n",
       "  'test': Data(x=[2485, 1433], edge_index=[2, 8112], y=[2485], train_mask=[2485], test_mask=[2485], val_mask=[2485], edge_label=[2026], edge_label_index=[2, 2026])},\n",
       " False,\n",
       " 'hits')"
      ]
     },
     "execution_count": 18,
     "metadata": {},
     "output_type": "execute_result"
    }
   ],
   "source": [
    "data"
   ]
  },
  {
   "cell_type": "code",
   "execution_count": null,
   "metadata": {},
   "outputs": [],
   "source": [
    "data.node_colors"
   ]
  },
  {
   "cell_type": "code",
   "execution_count": 19,
   "metadata": {},
   "outputs": [
    {
     "data": {
      "text/plain": [
       "tensor(120)"
      ]
     },
     "execution_count": 19,
     "metadata": {},
     "output_type": "execute_result"
    }
   ],
   "source": [
    "data[1]['train'].edge_marks.sum()"
   ]
  },
  {
   "cell_type": "code",
   "execution_count": null,
   "metadata": {},
   "outputs": [],
   "source": [
    "data"
   ]
  }
 ],
 "metadata": {
  "kernelspec": {
   "display_name": "gnn",
   "language": "python",
   "name": "python3"
  },
  "language_info": {
   "codemirror_mode": {
    "name": "ipython",
    "version": 3
   },
   "file_extension": ".py",
   "mimetype": "text/x-python",
   "name": "python",
   "nbconvert_exporter": "python",
   "pygments_lexer": "ipython3",
   "version": "3.10.16"
  }
 },
 "nbformat": 4,
 "nbformat_minor": 2
}
